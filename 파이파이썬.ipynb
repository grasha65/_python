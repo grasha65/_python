{
 "cells": [
  {
   "cell_type": "code",
   "execution_count": null,
   "metadata": {},
   "outputs": [],
   "source": []
  },
  {
   "cell_type": "code",
   "execution_count": null,
   "metadata": {},
   "outputs": [],
   "source": [
    "class Node:\n",
    "    def __init__(self, id, width, height): #init함수: id, width, height값으로 id+ 임의로 생성된 x,y값(connections리스트에 저장) \n",
    "        x= random.random()* width\n",
    "        y = random.random * height\n",
    "        self.pos = {'x':x, 'y':y}\n",
    "        self.id = id\n",
    "        self.conncections =[]\n",
    "    def addNode(self, other):\n",
    "        self.connections.append(other)\n",
    "    \n",
    "    "
   ]
  },
  {
   "cell_type": "code",
   "execution_count": null,
   "metadata": {},
   "outputs": [],
   "source": [
    "for i in range(10):\n",
    "    print(Node(i))\n",
    "    print(Node(i).addNode(i+1))"
   ]
  }
 ],
 "metadata": {
  "language_info": {
   "name": "python"
  },
  "orig_nbformat": 4
 },
 "nbformat": 4,
 "nbformat_minor": 2
}
