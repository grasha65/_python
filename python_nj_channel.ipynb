{
  "cells": [
    {
      "cell_type": "code",
      "execution_count": 10,
      "metadata": {
        "trusted": true
      },
      "outputs": [],
      "source": [
        "import random\n",
        "import math"
      ]
    },
    {
      "cell_type": "code",
      "execution_count": 11,
      "metadata": {
        "trusted": true
      },
      "outputs": [],
      "source": [
        "from tkinter import Y\n",
        "\n",
        "\n",
        "class Node:\n",
        "    def __init__ (self,id, width, height):\n",
        "        x=random.random\n",
        "        y=random.random\n",
        "        self.pos = {'x':x, 'y':y}\n",
        "        self.id = id\n",
        "        self.connections = []\n",
        "    def addNode(self, other):\n",
        "        self.connections.append(other)\n",
        "    def print(self):\n",
        "        print('id:', self.id, 'connections:', self.connections)\n",
        "        "
      ]
    },
    {
      "cell_type": "code",
      "execution_count": 12,
      "metadata": {
        "trusted": true
      },
      "outputs": [
        {
          "name": "stdout",
          "output_type": "stream",
          "text": [
            "id: 50 connections: []\n"
          ]
        }
      ],
      "source": [
        "numOFNodes = 200\n",
        "nodes = []\n",
        "\n",
        "for i in range(numOFNodes):\n",
        "    n = Node(i, 500, 500)\n",
        "    nodes.append(n)\n",
        "\n",
        "nodes[50].print()\n"
      ]
    },
    {
      "cell_type": "code",
      "execution_count": 13,
      "metadata": {
        "trusted": true
      },
      "outputs": [],
      "source": [
        "for i in range(300):\n",
        "    index0 = math.floor(random.random()*numOFNodes)\n",
        "    index1 = math.floor(random.random()*numOFNodes)\n",
        "    \n",
        "    if index0 != index1:\n",
        "        nodes[index0].addNode(nodes[index1])\n",
        "\n",
        "    \n",
        "    \n",
        "\n",
        "\n"
      ]
    },
    {
      "cell_type": "code",
      "execution_count": 14,
      "metadata": {
        "trusted": true
      },
      "outputs": [
        {
          "name": "stdout",
          "output_type": "stream",
          "text": [
            "id: 149 connections: [<__main__.Node object at 0x000002DAB9F33460>, <__main__.Node object at 0x000002DABA07B190>]\n"
          ]
        }
      ],
      "source": [
        "nodes[2].connections[0].print()\n"
      ]
    },
    {
      "cell_type": "code",
      "execution_count": 15,
      "metadata": {
        "trusted": true
      },
      "outputs": [
        {
          "name": "stdout",
          "output_type": "stream",
          "text": [
            "id: 0 connections: [<__main__.Node object at 0x000002DABA0781C0>, <__main__.Node object at 0x000002DABA078F40>]\n",
            "id: 1 connections: [<__main__.Node object at 0x000002DADA7B6470>]\n",
            "id: 2 connections: [<__main__.Node object at 0x000002DABA078BB0>]\n",
            "id: 3 connections: []\n",
            "id: 4 connections: [<__main__.Node object at 0x000002DABA0799F0>, <__main__.Node object at 0x000002DAB9F8DD20>, <__main__.Node object at 0x000002DABA078C10>, <__main__.Node object at 0x000002DABA07A710>]\n",
            "id: 5 connections: []\n",
            "id: 6 connections: []\n",
            "id: 7 connections: [<__main__.Node object at 0x000002DADA7B7A90>, <__main__.Node object at 0x000002DABA079660>]\n",
            "id: 8 connections: [<__main__.Node object at 0x000002DABA1539D0>]\n",
            "id: 9 connections: []\n",
            "id: 10 connections: [<__main__.Node object at 0x000002DABA07A710>, <__main__.Node object at 0x000002DABA079DB0>]\n",
            "id: 11 connections: [<__main__.Node object at 0x000002DABA079570>, <__main__.Node object at 0x000002DABA07B190>]\n",
            "id: 12 connections: [<__main__.Node object at 0x000002DABA079F90>]\n",
            "id: 13 connections: [<__main__.Node object at 0x000002DAB9F32F50>, <__main__.Node object at 0x000002DABA07A170>, <__main__.Node object at 0x000002DAB9F86AD0>]\n",
            "id: 14 connections: []\n",
            "id: 15 connections: []\n",
            "id: 16 connections: [<__main__.Node object at 0x000002DABA079690>, <__main__.Node object at 0x000002DABA0788E0>, <__main__.Node object at 0x000002DABA0784F0>]\n",
            "id: 17 connections: [<__main__.Node object at 0x000002DABA07A920>]\n",
            "id: 18 connections: [<__main__.Node object at 0x000002DABA07A350>, <__main__.Node object at 0x000002DABA0798A0>, <__main__.Node object at 0x000002DABA07A200>]\n",
            "id: 19 connections: [<__main__.Node object at 0x000002DABA078BB0>, <__main__.Node object at 0x000002DABA07A830>]\n",
            "id: 20 connections: [<__main__.Node object at 0x000002DABA07A9E0>, <__main__.Node object at 0x000002DABA07A500>, <__main__.Node object at 0x000002DABA07A380>]\n",
            "id: 21 connections: [<__main__.Node object at 0x000002DABA0780A0>]\n",
            "id: 22 connections: [<__main__.Node object at 0x000002DABA07A170>, <__main__.Node object at 0x000002DABA07A6B0>]\n",
            "id: 23 connections: [<__main__.Node object at 0x000002DABA079A80>]\n",
            "id: 24 connections: [<__main__.Node object at 0x000002DABA078E50>, <__main__.Node object at 0x000002DABA079660>]\n",
            "id: 25 connections: [<__main__.Node object at 0x000002DABA01DC00>]\n",
            "id: 26 connections: [<__main__.Node object at 0x000002DABA0795A0>]\n",
            "id: 27 connections: [<__main__.Node object at 0x000002DABA079E70>, <__main__.Node object at 0x000002DADA7B7A90>]\n",
            "id: 28 connections: [<__main__.Node object at 0x000002DABA078430>, <__main__.Node object at 0x000002DABA0789A0>, <__main__.Node object at 0x000002DABA07B250>]\n",
            "id: 29 connections: [<__main__.Node object at 0x000002DABA078190>, <__main__.Node object at 0x000002DAB9CB7FD0>]\n",
            "id: 30 connections: []\n",
            "id: 31 connections: [<__main__.Node object at 0x000002DABA078070>]\n",
            "id: 32 connections: [<__main__.Node object at 0x000002DABA0798A0>]\n",
            "id: 33 connections: [<__main__.Node object at 0x000002DABA07A0B0>]\n",
            "id: 34 connections: [<__main__.Node object at 0x000002DAB9CB6740>]\n",
            "id: 35 connections: [<__main__.Node object at 0x000002DABA07AFB0>]\n",
            "id: 36 connections: [<__main__.Node object at 0x000002DABA078CD0>]\n",
            "id: 37 connections: [<__main__.Node object at 0x000002DAB9CB6D40>, <__main__.Node object at 0x000002DABA079840>, <__main__.Node object at 0x000002DABA079690>, <__main__.Node object at 0x000002DAB9CB6EF0>]\n",
            "id: 38 connections: [<__main__.Node object at 0x000002DABA079A50>, <__main__.Node object at 0x000002DABA07B130>, <__main__.Node object at 0x000002DABA079BA0>, <__main__.Node object at 0x000002DADA7B6B30>]\n",
            "id: 39 connections: [<__main__.Node object at 0x000002DABA07A530>, <__main__.Node object at 0x000002DABA07A8C0>]\n",
            "id: 40 connections: [<__main__.Node object at 0x000002DABA078FA0>]\n",
            "id: 41 connections: [<__main__.Node object at 0x000002DAB9CB6E60>, <__main__.Node object at 0x000002DABA078F40>]\n",
            "id: 42 connections: [<__main__.Node object at 0x000002DABA07A3E0>, <__main__.Node object at 0x000002DABA078C70>]\n",
            "id: 43 connections: []\n",
            "id: 44 connections: [<__main__.Node object at 0x000002DAB9F8D5A0>, <__main__.Node object at 0x000002DADA7B61A0>, <__main__.Node object at 0x000002DABA0795A0>]\n",
            "id: 45 connections: [<__main__.Node object at 0x000002DAB9CB6E90>]\n",
            "id: 46 connections: [<__main__.Node object at 0x000002DABA078220>, <__main__.Node object at 0x000002DAB9F875E0>]\n",
            "id: 47 connections: [<__main__.Node object at 0x000002DABA079D20>]\n",
            "id: 48 connections: []\n",
            "id: 49 connections: [<__main__.Node object at 0x000002DAB9CB75B0>, <__main__.Node object at 0x000002DABA078C70>, <__main__.Node object at 0x000002DABA078190>, <__main__.Node object at 0x000002DAB9CB7FD0>]\n",
            "id: 50 connections: []\n",
            "id: 51 connections: []\n",
            "id: 52 connections: []\n",
            "id: 53 connections: [<__main__.Node object at 0x000002DABA079E70>, <__main__.Node object at 0x000002DADA7B7E50>]\n",
            "id: 54 connections: []\n",
            "id: 55 connections: [<__main__.Node object at 0x000002DABA0791B0>]\n",
            "id: 56 connections: [<__main__.Node object at 0x000002DABA07B040>, <__main__.Node object at 0x000002DAB9CB6CB0>]\n",
            "id: 57 connections: [<__main__.Node object at 0x000002DABA079B70>]\n",
            "id: 58 connections: [<__main__.Node object at 0x000002DABA07AF50>, <__main__.Node object at 0x000002DABA079E40>]\n",
            "id: 59 connections: [<__main__.Node object at 0x000002DABA07A020>]\n",
            "id: 60 connections: [<__main__.Node object at 0x000002DABA078A00>]\n",
            "id: 61 connections: [<__main__.Node object at 0x000002DAB9CB6770>, <__main__.Node object at 0x000002DABA079B10>, <__main__.Node object at 0x000002DABA079900>]\n",
            "id: 62 connections: []\n",
            "id: 63 connections: [<__main__.Node object at 0x000002DABA078CD0>, <__main__.Node object at 0x000002DAB9F30640>, <__main__.Node object at 0x000002DADA7B6380>]\n",
            "id: 64 connections: []\n",
            "id: 65 connections: [<__main__.Node object at 0x000002DABA0787F0>]\n",
            "id: 66 connections: []\n",
            "id: 67 connections: []\n",
            "id: 68 connections: [<__main__.Node object at 0x000002DABA0787F0>]\n",
            "id: 69 connections: [<__main__.Node object at 0x000002DABA07AB60>, <__main__.Node object at 0x000002DABA07A890>, <__main__.Node object at 0x000002DABA079570>]\n",
            "id: 70 connections: [<__main__.Node object at 0x000002DABA079210>, <__main__.Node object at 0x000002DABA07B250>, <__main__.Node object at 0x000002DABA079D20>]\n",
            "id: 71 connections: [<__main__.Node object at 0x000002DAB9F88DF0>, <__main__.Node object at 0x000002DABA07AC50>, <__main__.Node object at 0x000002DADA7B6470>]\n",
            "id: 72 connections: [<__main__.Node object at 0x000002DABA078FA0>]\n",
            "id: 73 connections: []\n",
            "id: 74 connections: [<__main__.Node object at 0x000002DABA07A8C0>]\n",
            "id: 75 connections: []\n",
            "id: 76 connections: [<__main__.Node object at 0x000002DABA079810>]\n",
            "id: 77 connections: [<__main__.Node object at 0x000002DABA07ABC0>, <__main__.Node object at 0x000002DABA078220>, <__main__.Node object at 0x000002DAB9CB6EF0>, <__main__.Node object at 0x000002DABA07A770>]\n",
            "id: 78 connections: [<__main__.Node object at 0x000002DABA07B1F0>]\n",
            "id: 79 connections: [<__main__.Node object at 0x000002DABA0781C0>]\n",
            "id: 80 connections: [<__main__.Node object at 0x000002DABA0787F0>]\n",
            "id: 81 connections: [<__main__.Node object at 0x000002DABA078190>, <__main__.Node object at 0x000002DABA07A770>]\n",
            "id: 82 connections: [<__main__.Node object at 0x000002DAB9CB7400>, <__main__.Node object at 0x000002DABA0797E0>, <__main__.Node object at 0x000002DABA0784F0>, <__main__.Node object at 0x000002DABA0781C0>, <__main__.Node object at 0x000002DAB9F8D5A0>]\n",
            "id: 83 connections: [<__main__.Node object at 0x000002DAB9F8FE50>, <__main__.Node object at 0x000002DABA07A590>, <__main__.Node object at 0x000002DABA078F10>, <__main__.Node object at 0x000002DABA078D30>, <__main__.Node object at 0x000002DABA07A0B0>, <__main__.Node object at 0x000002DAB9CB77F0>]\n",
            "id: 84 connections: []\n",
            "id: 85 connections: [<__main__.Node object at 0x000002DABA07AAD0>, <__main__.Node object at 0x000002DADA7B79D0>]\n",
            "id: 86 connections: [<__main__.Node object at 0x000002DABA07AF20>, <__main__.Node object at 0x000002DABA0787F0>]\n",
            "id: 87 connections: [<__main__.Node object at 0x000002DABA078A00>, <__main__.Node object at 0x000002DABA07A380>]\n",
            "id: 88 connections: []\n",
            "id: 89 connections: [<__main__.Node object at 0x000002DAB9F89840>, <__main__.Node object at 0x000002DADA7B6380>, <__main__.Node object at 0x000002DABA078AF0>]\n",
            "id: 90 connections: [<__main__.Node object at 0x000002DABA07A6B0>]\n",
            "id: 91 connections: [<__main__.Node object at 0x000002DAB9CB6D40>, <__main__.Node object at 0x000002DABA07A770>, <__main__.Node object at 0x000002DAB9F8DD20>]\n",
            "id: 92 connections: [<__main__.Node object at 0x000002DAB9CB6920>]\n",
            "id: 93 connections: [<__main__.Node object at 0x000002DABA079030>]\n",
            "id: 94 connections: [<__main__.Node object at 0x000002DAB9F33460>, <__main__.Node object at 0x000002DABA07AFB0>]\n",
            "id: 95 connections: [<__main__.Node object at 0x000002DABA07A1D0>]\n",
            "id: 96 connections: [<__main__.Node object at 0x000002DABA078D30>, <__main__.Node object at 0x000002DABA079ED0>, <__main__.Node object at 0x000002DABA0784F0>, <__main__.Node object at 0x000002DADA7B6CB0>, <__main__.Node object at 0x000002DABA07B250>, <__main__.Node object at 0x000002DABA07AAA0>]\n",
            "id: 97 connections: [<__main__.Node object at 0x000002DABA078610>, <__main__.Node object at 0x000002DABA0781C0>, <__main__.Node object at 0x000002DABA07A200>]\n",
            "id: 98 connections: [<__main__.Node object at 0x000002DADA7B7370>, <__main__.Node object at 0x000002DABA07A770>, <__main__.Node object at 0x000002DABA078A00>]\n",
            "id: 99 connections: [<__main__.Node object at 0x000002DADA7B7370>, <__main__.Node object at 0x000002DABA0793F0>]\n",
            "id: 100 connections: [<__main__.Node object at 0x000002DAB9F8D1B0>]\n",
            "id: 101 connections: []\n",
            "id: 102 connections: []\n",
            "id: 103 connections: [<__main__.Node object at 0x000002DABA07ACE0>]\n",
            "id: 104 connections: [<__main__.Node object at 0x000002DABA079840>]\n",
            "id: 105 connections: [<__main__.Node object at 0x000002DAB9CB6CB0>]\n",
            "id: 106 connections: [<__main__.Node object at 0x000002DADA7B6FB0>, <__main__.Node object at 0x000002DABA07ACE0>]\n",
            "id: 107 connections: []\n",
            "id: 108 connections: [<__main__.Node object at 0x000002DABA07A1D0>, <__main__.Node object at 0x000002DABA07AAA0>]\n",
            "id: 109 connections: [<__main__.Node object at 0x000002DAB9F8EF80>]\n",
            "id: 110 connections: [<__main__.Node object at 0x000002DABA079210>, <__main__.Node object at 0x000002DAB9CB6CB0>]\n",
            "id: 111 connections: [<__main__.Node object at 0x000002DABA07A1D0>]\n",
            "id: 112 connections: [<__main__.Node object at 0x000002DABA07AC20>]\n",
            "id: 113 connections: [<__main__.Node object at 0x000002DABA0793F0>]\n",
            "id: 114 connections: [<__main__.Node object at 0x000002DAB9F8CF10>, <__main__.Node object at 0x000002DABA07AC80>]\n",
            "id: 115 connections: []\n",
            "id: 116 connections: [<__main__.Node object at 0x000002DABA078340>, <__main__.Node object at 0x000002DABA07AC50>, <__main__.Node object at 0x000002DADA7B6FB0>]\n",
            "id: 117 connections: [<__main__.Node object at 0x000002DABA078160>, <__main__.Node object at 0x000002DADA7B6380>]\n",
            "id: 118 connections: []\n",
            "id: 119 connections: [<__main__.Node object at 0x000002DABA079D20>]\n",
            "id: 120 connections: [<__main__.Node object at 0x000002DADA7B6470>, <__main__.Node object at 0x000002DABA07A770>]\n",
            "id: 121 connections: [<__main__.Node object at 0x000002DABA078F40>]\n",
            "id: 122 connections: [<__main__.Node object at 0x000002DABA079570>, <__main__.Node object at 0x000002DABA0788E0>, <__main__.Node object at 0x000002DAB9CB7FD0>, <__main__.Node object at 0x000002DABA07B250>]\n",
            "id: 123 connections: [<__main__.Node object at 0x000002DADA7B6CB0>, <__main__.Node object at 0x000002DABA07A6B0>, <__main__.Node object at 0x000002DABA0798A0>]\n",
            "id: 124 connections: [<__main__.Node object at 0x000002DAB9F86AD0>]\n",
            "id: 125 connections: [<__main__.Node object at 0x000002DABA079810>, <__main__.Node object at 0x000002DABA07ACE0>]\n",
            "id: 126 connections: [<__main__.Node object at 0x000002DABA07AF20>, <__main__.Node object at 0x000002DABA079690>]\n",
            "id: 127 connections: [<__main__.Node object at 0x000002DABA07B190>]\n",
            "id: 128 connections: []\n",
            "id: 129 connections: [<__main__.Node object at 0x000002DABA078B50>, <__main__.Node object at 0x000002DABA07A830>, <__main__.Node object at 0x000002DAB9F8DD20>]\n",
            "id: 130 connections: [<__main__.Node object at 0x000002DABA07A950>]\n",
            "id: 131 connections: []\n",
            "id: 132 connections: [<__main__.Node object at 0x000002DABA079B10>, <__main__.Node object at 0x000002DAB9CB6E60>]\n",
            "id: 133 connections: [<__main__.Node object at 0x000002DAB9CB7490>, <__main__.Node object at 0x000002DABA079DB0>]\n",
            "id: 134 connections: [<__main__.Node object at 0x000002DABA07AB60>]\n",
            "id: 135 connections: [<__main__.Node object at 0x000002DAB9CB6770>]\n",
            "id: 136 connections: [<__main__.Node object at 0x000002DABA01F7F0>, <__main__.Node object at 0x000002DABA078A90>]\n",
            "id: 137 connections: [<__main__.Node object at 0x000002DAB9F8D5A0>]\n",
            "id: 138 connections: [<__main__.Node object at 0x000002DABA079A80>]\n",
            "id: 139 connections: [<__main__.Node object at 0x000002DABA07A020>, <__main__.Node object at 0x000002DABA07A470>, <__main__.Node object at 0x000002DABA01F7F0>]\n",
            "id: 140 connections: [<__main__.Node object at 0x000002DAB9F31FF0>]\n",
            "id: 141 connections: [<__main__.Node object at 0x000002DAB9CB6FB0>]\n",
            "id: 142 connections: [<__main__.Node object at 0x000002DABA078A00>, <__main__.Node object at 0x000002DABA078070>, <__main__.Node object at 0x000002DABA0787F0>]\n",
            "id: 143 connections: []\n",
            "id: 144 connections: []\n",
            "id: 145 connections: []\n",
            "id: 146 connections: [<__main__.Node object at 0x000002DAB9CB7FD0>, <__main__.Node object at 0x000002DABA0791B0>, <__main__.Node object at 0x000002DAB9CB6740>, <__main__.Node object at 0x000002DABA07A770>]\n",
            "id: 147 connections: [<__main__.Node object at 0x000002DABA07AAD0>, <__main__.Node object at 0x000002DADA7B67A0>]\n",
            "id: 148 connections: []\n",
            "id: 149 connections: [<__main__.Node object at 0x000002DAB9F33460>, <__main__.Node object at 0x000002DABA07B190>]\n",
            "id: 150 connections: [<__main__.Node object at 0x000002DADA7B6B30>, <__main__.Node object at 0x000002DADA7B67D0>, <__main__.Node object at 0x000002DABA07A7D0>]\n",
            "id: 151 connections: [<__main__.Node object at 0x000002DABA078DF0>]\n",
            "id: 152 connections: [<__main__.Node object at 0x000002DAB9CB6E60>, <__main__.Node object at 0x000002DABA0790F0>, <__main__.Node object at 0x000002DABA078DF0>, <__main__.Node object at 0x000002DAB9CB6770>]\n",
            "id: 153 connections: [<__main__.Node object at 0x000002DADA7B70A0>, <__main__.Node object at 0x000002DABA07A0B0>]\n",
            "id: 154 connections: [<__main__.Node object at 0x000002DADA7B6B30>, <__main__.Node object at 0x000002DADA7B7AF0>]\n",
            "id: 155 connections: []\n",
            "id: 156 connections: []\n",
            "id: 157 connections: [<__main__.Node object at 0x000002DABA0783A0>, <__main__.Node object at 0x000002DAB9F8CA00>]\n",
            "id: 158 connections: [<__main__.Node object at 0x000002DAB9F8DD20>, <__main__.Node object at 0x000002DADA7B7A90>]\n",
            "id: 159 connections: [<__main__.Node object at 0x000002DABA079A50>, <__main__.Node object at 0x000002DABA078700>]\n",
            "id: 160 connections: [<__main__.Node object at 0x000002DAB9F31FF0>]\n",
            "id: 161 connections: [<__main__.Node object at 0x000002DABA079930>]\n",
            "id: 162 connections: []\n",
            "id: 163 connections: [<__main__.Node object at 0x000002DAB9F88DF0>, <__main__.Node object at 0x000002DABA07A530>, <__main__.Node object at 0x000002DAB9CB6CB0>, <__main__.Node object at 0x000002DAB9F31FF0>]\n",
            "id: 164 connections: [<__main__.Node object at 0x000002DAB9F31F90>]\n",
            "id: 165 connections: [<__main__.Node object at 0x000002DAB9F33EE0>]\n",
            "id: 166 connections: [<__main__.Node object at 0x000002DABA07A3E0>]\n",
            "id: 167 connections: []\n",
            "id: 168 connections: [<__main__.Node object at 0x000002DABA078CD0>, <__main__.Node object at 0x000002DABA079E40>, <__main__.Node object at 0x000002DADA7B6F20>, <__main__.Node object at 0x000002DABA079570>]\n",
            "id: 169 connections: [<__main__.Node object at 0x000002DAB9F8EF80>]\n",
            "id: 170 connections: [<__main__.Node object at 0x000002DABA07A410>]\n",
            "id: 171 connections: []\n",
            "id: 172 connections: [<__main__.Node object at 0x000002DABA078CD0>]\n",
            "id: 173 connections: []\n",
            "id: 174 connections: []\n",
            "id: 175 connections: []\n",
            "id: 176 connections: []\n",
            "id: 177 connections: [<__main__.Node object at 0x000002DADA7B7A90>, <__main__.Node object at 0x000002DABA07AC50>]\n",
            "id: 178 connections: []\n",
            "id: 179 connections: [<__main__.Node object at 0x000002DABA079C90>]\n",
            "id: 180 connections: [<__main__.Node object at 0x000002DABA079210>]\n",
            "id: 181 connections: [<__main__.Node object at 0x000002DABA07B0D0>, <__main__.Node object at 0x000002DABA078130>, <__main__.Node object at 0x000002DABA0797E0>]\n",
            "id: 182 connections: [<__main__.Node object at 0x000002DABA078130>, <__main__.Node object at 0x000002DABA07B0D0>]\n",
            "id: 183 connections: []\n",
            "id: 184 connections: []\n",
            "id: 185 connections: [<__main__.Node object at 0x000002DABA0789A0>, <__main__.Node object at 0x000002DABA07B010>, <__main__.Node object at 0x000002DABA078C70>, <__main__.Node object at 0x000002DABA079ED0>]\n",
            "id: 186 connections: []\n",
            "id: 187 connections: [<__main__.Node object at 0x000002DADA7B7E50>]\n",
            "id: 188 connections: [<__main__.Node object at 0x000002DAB9CB5150>, <__main__.Node object at 0x000002DABA07A380>]\n",
            "id: 189 connections: [<__main__.Node object at 0x000002DABA07A950>, <__main__.Node object at 0x000002DAB9F8EF80>]\n",
            "id: 190 connections: [<__main__.Node object at 0x000002DABA078250>, <__main__.Node object at 0x000002DABA079690>, <__main__.Node object at 0x000002DABA078190>]\n",
            "id: 191 connections: []\n",
            "id: 192 connections: [<__main__.Node object at 0x000002DAB9F8E1D0>, <__main__.Node object at 0x000002DABA07AEC0>]\n",
            "id: 193 connections: [<__main__.Node object at 0x000002DABA07A290>, <__main__.Node object at 0x000002DABA078D30>, <__main__.Node object at 0x000002DADA7B6CB0>]\n",
            "id: 194 connections: [<__main__.Node object at 0x000002DAB9F31FF0>, <__main__.Node object at 0x000002DABA07ABC0>, <__main__.Node object at 0x000002DAB9F89840>, <__main__.Node object at 0x000002DABA078220>]\n",
            "id: 195 connections: [<__main__.Node object at 0x000002DADA7B7E50>]\n",
            "id: 196 connections: [<__main__.Node object at 0x000002DAB9F8F580>]\n",
            "id: 197 connections: [<__main__.Node object at 0x000002DABA01F7F0>, <__main__.Node object at 0x000002DADA7B6F20>]\n",
            "id: 198 connections: []\n",
            "id: 199 connections: [<__main__.Node object at 0x000002DABA078FD0>]\n"
          ]
        }
      ],
      "source": [
        "for i in nodes:\n",
        "    i.print()"
      ]
    },
    {
      "cell_type": "code",
      "execution_count": 16,
      "metadata": {
        "trusted": true
      },
      "outputs": [
        {
          "ename": "TypeError",
          "evalue": "Node.__init__() missing 2 required positional arguments: 'width' and 'height'",
          "output_type": "error",
          "traceback": [
            "\u001b[1;31m---------------------------------------------------------------------------\u001b[0m",
            "\u001b[1;31mTypeError\u001b[0m                                 Traceback (most recent call last)",
            "\u001b[1;32mc:\\Users\\user\\OneDrive - ewhain.net\\python\\Untitled2.ipynb 셀 7\u001b[0m in \u001b[0;36m<cell line: 21>\u001b[1;34m()\u001b[0m\n\u001b[0;32m     <a href='vscode-notebook-cell:/c%3A/Users/user/OneDrive%20-%20ewhain.net/python/Untitled2.ipynb#W6sZmlsZQ%3D%3D?line=16'>17</a>\u001b[0m     \u001b[39mdef\u001b[39;00m \u001b[39mprint\u001b[39m(\u001b[39mself\u001b[39m):\n\u001b[0;32m     <a href='vscode-notebook-cell:/c%3A/Users/user/OneDrive%20-%20ewhain.net/python/Untitled2.ipynb#W6sZmlsZQ%3D%3D?line=17'>18</a>\u001b[0m         \u001b[39mprint\u001b[39m(\u001b[39m'\u001b[39m\u001b[39mnumOFnodes:\u001b[39m\u001b[39m'\u001b[39m, \u001b[39mlen\u001b[39m(\u001b[39mself\u001b[39m\u001b[39m.\u001b[39mnodes))\n\u001b[1;32m---> <a href='vscode-notebook-cell:/c%3A/Users/user/OneDrive%20-%20ewhain.net/python/Untitled2.ipynb#W6sZmlsZQ%3D%3D?line=20'>21</a>\u001b[0m Graph(\u001b[39m500\u001b[39;49m,\u001b[39m20\u001b[39;49m)\u001b[39m.\u001b[39mprint()\n",
            "\u001b[1;32mc:\\Users\\user\\OneDrive - ewhain.net\\python\\Untitled2.ipynb 셀 7\u001b[0m in \u001b[0;36mGraph.__init__\u001b[1;34m(self, num, numOFConnections)\u001b[0m\n\u001b[0;32m      <a href='vscode-notebook-cell:/c%3A/Users/user/OneDrive%20-%20ewhain.net/python/Untitled2.ipynb#W6sZmlsZQ%3D%3D?line=5'>6</a>\u001b[0m \u001b[39mself\u001b[39m\u001b[39m.\u001b[39mnodes \u001b[39m=\u001b[39m []\n\u001b[0;32m      <a href='vscode-notebook-cell:/c%3A/Users/user/OneDrive%20-%20ewhain.net/python/Untitled2.ipynb#W6sZmlsZQ%3D%3D?line=6'>7</a>\u001b[0m \u001b[39mfor\u001b[39;00m i \u001b[39min\u001b[39;00m \u001b[39mrange\u001b[39m(num):\n\u001b[1;32m----> <a href='vscode-notebook-cell:/c%3A/Users/user/OneDrive%20-%20ewhain.net/python/Untitled2.ipynb#W6sZmlsZQ%3D%3D?line=7'>8</a>\u001b[0m     \u001b[39mself\u001b[39m\u001b[39m.\u001b[39mnodes\u001b[39m.\u001b[39mappend(Node(i),\u001b[39mself\u001b[39m\u001b[39m.\u001b[39mwidth, \u001b[39mself\u001b[39m\u001b[39m.\u001b[39mheight)\n\u001b[0;32m      <a href='vscode-notebook-cell:/c%3A/Users/user/OneDrive%20-%20ewhain.net/python/Untitled2.ipynb#W6sZmlsZQ%3D%3D?line=8'>9</a>\u001b[0m \u001b[39mself\u001b[39m\u001b[39m.\u001b[39minit(numOFConnections)\n",
            "\u001b[1;31mTypeError\u001b[0m: Node.__init__() missing 2 required positional arguments: 'width' and 'height'"
          ]
        }
      ],
      "source": [
        "class Graph:\n",
        "    def __init__ (self,num, numOFConnections):\n",
        "        self.num = num\n",
        "        self.width =500\n",
        "        self.height=500\n",
        "        self.nodes = []\n",
        "        for i in range(num):\n",
        "            self.nodes.append(Node(i),self.width, self.height)\n",
        "        self.init(numOFConnections)\n",
        "    def init(self, num =100):\n",
        "        for i in range(num):\n",
        "            index0 = math.floor(random.random()*self.num)\n",
        "            index1 = math.floor(random.random()*self.num)\n",
        "            if index0 != index1:\n",
        "                self.nodes[index0].addNode(self.nodes[index1])\n",
        "\n",
        "    def print(self):\n",
        "        print('numOFnodes:', len(self.nodes))\n",
        "\n",
        "\n",
        "Graph(500,20).print()"
      ]
    },
    {
      "cell_type": "code",
      "execution_count": null,
      "metadata": {
        "trusted": true
      },
      "outputs": [
        {
          "name": "stdout",
          "output_type": "stream",
          "text": [
            "numOFnodes: 200\n",
            "id: 20 connections: [<__main__.Node object at 0x0000018021F95F30>]\n"
          ]
        }
      ],
      "source": [
        "g = Graph(200,400)\n",
        "g.print()     \n",
        "g.nodes[20].print()\n",
        "\n"
      ]
    },
    {
      "cell_type": "markdown",
      "metadata": {},
      "source": [
        "\n"
      ]
    },
    {
      "cell_type": "markdown",
      "metadata": {},
      "source": []
    },
    {
      "cell_type": "code",
      "execution_count": null,
      "metadata": {
        "trusted": true
      },
      "outputs": [
        {
          "ename": "NameError",
          "evalue": "name 'g' is not defined",
          "output_type": "error",
          "traceback": [
            "\u001b[1;31m---------------------------------------------------------------------------\u001b[0m",
            "\u001b[1;31mNameError\u001b[0m                                 Traceback (most recent call last)",
            "\u001b[1;32mc:\\Users\\user\\OneDrive - ewhain.net\\python\\Untitled2.ipynb 셀 11\u001b[0m in \u001b[0;36m<cell line: 5>\u001b[1;34m()\u001b[0m\n\u001b[0;32m      <a href='vscode-notebook-cell:/c%3A/Users/user/OneDrive%20-%20ewhain.net/python/Untitled2.ipynb#X13sZmlsZQ%3D%3D?line=1'>2</a>\u001b[0m \u001b[39mimport\u001b[39;00m \u001b[39mmath\u001b[39;00m\n\u001b[0;32m      <a href='vscode-notebook-cell:/c%3A/Users/user/OneDrive%20-%20ewhain.net/python/Untitled2.ipynb#X13sZmlsZQ%3D%3D?line=3'>4</a>\u001b[0m root \u001b[39m=\u001b[39m tkinter\u001b[39m.\u001b[39mTk()\n\u001b[1;32m----> <a href='vscode-notebook-cell:/c%3A/Users/user/OneDrive%20-%20ewhain.net/python/Untitled2.ipynb#X13sZmlsZQ%3D%3D?line=4'>5</a>\u001b[0m myCanvas \u001b[39m=\u001b[39m tkinter\u001b[39m.\u001b[39mCanvas(root, bg \u001b[39m=\u001b[39m \u001b[39m\"\u001b[39m\u001b[39mblue\u001b[39m\u001b[39m\"\u001b[39m, height \u001b[39m=\u001b[39mg\u001b[39m.\u001b[39mheight, width\u001b[39m=\u001b[39mg\u001b[39m.\u001b[39mwidth)\n\u001b[0;32m      <a href='vscode-notebook-cell:/c%3A/Users/user/OneDrive%20-%20ewhain.net/python/Untitled2.ipynb#X13sZmlsZQ%3D%3D?line=5'>6</a>\u001b[0m myCanvas\u001b[39m.\u001b[39mpack()\n\u001b[0;32m      <a href='vscode-notebook-cell:/c%3A/Users/user/OneDrive%20-%20ewhain.net/python/Untitled2.ipynb#X13sZmlsZQ%3D%3D?line=7'>8</a>\u001b[0m \u001b[39mdef\u001b[39;00m \u001b[39mdrawPoint\u001b[39m(x,y,r \u001b[39m=\u001b[39m\u001b[39m2\u001b[39m):\n",
            "\u001b[1;31mNameError\u001b[0m: name 'g' is not defined"
          ]
        }
      ],
      "source": [
        "import tkinter\n",
        "import math\n",
        "\n",
        "root = tkinter.Tk()\n",
        "myCanvas = tkinter.Canvas(root, bg = \"blue\", height =g.height, width=g.width)\n",
        "myCanvas.pack()\n",
        "\n",
        "def drawPoint(x,y,r =2):\n",
        "    myCanvas.create_oval(x-r, y-r, x+r, y+r, outline= \"white\", fill= \"red\", width= 2, stipple=\"gray50\")\n",
        "    \n",
        "\n",
        "drawPoint(100,100)\n",
        "drawPoint(200,100)\n",
        "\n",
        "\n",
        "root.mainloop()\n"
      ]
    },
    {
      "cell_type": "code",
      "execution_count": null,
      "metadata": {},
      "outputs": [],
      "source": []
    }
  ],
  "metadata": {
    "kernelspec": {
      "display_name": "Python 3.10.6 64-bit (windows store)",
      "language": "python",
      "name": "python3"
    },
    "language_info": {
      "codemirror_mode": {
        "name": "ipython",
        "version": 3
      },
      "file_extension": ".py",
      "mimetype": "text/x-python",
      "name": "python",
      "nbconvert_exporter": "python",
      "pygments_lexer": "ipython3",
      "version": "3.10.6"
    },
    "vscode": {
      "interpreter": {
        "hash": "8821e9fbe1d570f1609d9b5f175d4d04af873bf90c266ff7bf62b192db73aff7"
      }
    }
  },
  "nbformat": 4,
  "nbformat_minor": 4
}
